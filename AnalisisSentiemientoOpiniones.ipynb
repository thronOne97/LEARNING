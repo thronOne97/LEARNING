{
  "nbformat": 4,
  "nbformat_minor": 0,
  "metadata": {
    "colab": {
      "name": "AnalisisSentiemientoOpiniones.ipynb",
      "provenance": [],
      "collapsed_sections": [],
      "include_colab_link": true
    },
    "kernelspec": {
      "name": "python3",
      "display_name": "Python 3"
    },
    "accelerator": "GPU"
  },
  "cells": [
    {
      "cell_type": "markdown",
      "metadata": {
        "id": "view-in-github",
        "colab_type": "text"
      },
      "source": [
        "<a href=\"https://colab.research.google.com/github/thronOne97/LEARNING/blob/master/AnalisisSentiemientoOpiniones.ipynb\" target=\"_parent\"><img src=\"https://colab.research.google.com/assets/colab-badge.svg\" alt=\"Open In Colab\"/></a>"
      ]
    },
    {
      "cell_type": "markdown",
      "metadata": {
        "id": "vyY0I6qYJpfG"
      },
      "source": [
        "# Minería de opiniones\n",
        "## Clasificación de sentimientos en opiniones\n"
      ]
    },
    {
      "cell_type": "code",
      "metadata": {
        "id": "O3UewbT8O_MM"
      },
      "source": [
        "import tensorflow as tf\n",
        "from tensorflow.keras.models import Sequential\n",
        "from tensorflow.keras.layers import Dense, LSTM, Embedding, SimpleRNN, Bidirectional, Dropout\n",
        "from tensorflow.keras import backend, optimizers, callbacks\n",
        "from tensorflow.keras.datasets import imdb\n",
        "import numpy as np\n",
        "import matplotlib.pyplot as plt"
      ],
      "execution_count": null,
      "outputs": []
    },
    {
      "cell_type": "code",
      "metadata": {
        "id": "HFU1I04oUhJP"
      },
      "source": [
        "# Obtención de los datos.\n",
        "# Con numeroPalabras establecemos un límite del numero de palabras que tomaremos\n",
        "# en cuenta. En IMDB las palabras del vocabulario se encuentran ordenadas por frecuencia \n",
        "# de aparición. Al asignar num_words en 10,000 indicaremos que \n",
        "# consideraremos únicamente las primeras 10,000 palabras que más se repiten.\n",
        "numeroPalabras = 10000\n",
        "(x_train, y_train), (x_test, y_test) = imdb.load_data(num_words = numeroPalabras)"
      ],
      "execution_count": null,
      "outputs": []
    },
    {
      "cell_type": "code",
      "metadata": {
        "id": "MYgQPzGSABO5"
      },
      "source": [
        "# Tamaño del conjunto de entrenamiento.\n",
        "x_train.shape"
      ],
      "execution_count": null,
      "outputs": []
    },
    {
      "cell_type": "code",
      "metadata": {
        "id": "yRNn_FGSADNL"
      },
      "source": [
        "# Así se encuentra codificada una opinión en IMDB\n"
      ],
      "execution_count": null,
      "outputs": []
    },
    {
      "cell_type": "code",
      "metadata": {
        "id": "Y_hR2-5lAL_B"
      },
      "source": [
        "# La longitud de las opiniones cambia.\n",
        "len(x_train[13456])"
      ],
      "execution_count": null,
      "outputs": []
    },
    {
      "cell_type": "code",
      "metadata": {
        "id": "U_5VI07CAZ4_"
      },
      "source": [
        "# Visualización de las etiquetas\n"
      ],
      "execution_count": null,
      "outputs": []
    },
    {
      "cell_type": "markdown",
      "metadata": {
        "id": "e4TIOtMxBdTX"
      },
      "source": [
        "## Procesamiento de los datos - Vectorización"
      ]
    },
    {
      "cell_type": "code",
      "metadata": {
        "id": "xP-9NR-wTXZo"
      },
      "source": [
        "# Diccionario de palabras.\n",
        "# Con este diccionario accedemos a los índices de las palabra. \n",
        "diccionarioPalabras = imdb.get_word_index()\n",
        "print(len(diccionarioPalabras))"
      ],
      "execution_count": null,
      "outputs": []
    },
    {
      "cell_type": "code",
      "metadata": {
        "id": "Gib_P3XbUJVc"
      },
      "source": [
        "# Obtención del índice asignado a la palabra \"movie\".\n",
        "diccionarioPalabras[]"
      ],
      "execution_count": null,
      "outputs": []
    },
    {
      "cell_type": "code",
      "metadata": {
        "id": "n-XCt-kzUKms"
      },
      "source": [
        "# Diccionario para acceder a la palabra a través del índice.\n",
        "indice2palabra = dict([(indice, palabra) for (palabra, indice) in diccionarioPalabras.items()])"
      ],
      "execution_count": null,
      "outputs": []
    },
    {
      "cell_type": "code",
      "metadata": {
        "id": "e9aDd0OBUpdu"
      },
      "source": [
        "# La palabra \"movie\" se encuentra en el lugar 17 de las que más se repiten.\n"
      ],
      "execution_count": null,
      "outputs": []
    },
    {
      "cell_type": "code",
      "metadata": {
        "id": "1nqg3Aq0BD2z"
      },
      "source": [
        "# ¿Cúal es la palabra que más se usa en las reseñas?\n",
        "indice2palabra[]"
      ],
      "execution_count": null,
      "outputs": []
    },
    {
      "cell_type": "code",
      "metadata": {
        "id": "dAUtrXZTil1s"
      },
      "source": [
        "# Recuerda que a los índices reales de las palabras se les ha sumado 3 \n",
        "# para evitar confundirlos con los índices 0, 1 y 2 que estan destinados a:\n",
        "# 0 -> palabras desconocidas\n",
        "# 1 -> palabra de inicio de todos los vectores de opiniones\n",
        "# 2 -> palabras fuera de las 10,000 que hemos indicado al inicio del ejercicio\n",
        "opinionDecodificada = ' '.join(\n",
        "[indice2palabra.get(i-3, '?') for i in x_train[923]])"
      ],
      "execution_count": null,
      "outputs": []
    },
    {
      "cell_type": "code",
      "metadata": {
        "id": "J1MR1tIdi90c"
      },
      "source": [
        "opinionDecodificada"
      ],
      "execution_count": null,
      "outputs": []
    },
    {
      "cell_type": "code",
      "metadata": {
        "id": "KMSDQ59yi_Pj"
      },
      "source": [
        "# Normalización de los vectores de opiniones\n",
        "def codifica1hot(opiniones, longitud = 10000):\n",
        "  # La dimensión de opinion1hot matriz será de 25000 filas, 10000 columnas\n",
        "  opinion1hot = np.zeros((opiniones.shape[0], longitud))\n",
        "  for opinion in range(opiniones.shape[0]):\n",
        "    for indice in opiniones[opinion]:\n",
        "      # Con el 1 indicamos que la palabra asociada a \"indice\" aparece en \"opinion\"\n",
        "      if indice < longitud:\n",
        "        opinion1hot[opinion, indice] = 1\n",
        "  return opinion1hot"
      ],
      "execution_count": null,
      "outputs": []
    },
    {
      "cell_type": "code",
      "metadata": {
        "id": "ZAiK5MVWCYIn"
      },
      "source": [
        "# Normalización de los conjuntos de entrenamiento y test\n",
        "x_train_1hot = codifica1hot(x_train)\n",
        "x_test_1hot = codifica1hot(x_test)"
      ],
      "execution_count": null,
      "outputs": []
    },
    {
      "cell_type": "code",
      "metadata": {
        "id": "K3eHuE4kCjAM"
      },
      "source": [
        "# Tamaño del conjunto nuevo de entrenamiento\n",
        "x_train_1hot"
      ],
      "execution_count": null,
      "outputs": []
    },
    {
      "cell_type": "code",
      "metadata": {
        "id": "zkdi-d8zCmLy"
      },
      "source": [
        "# Tamaño del conjunto nuevo de test\n",
        "x_test_1hot"
      ],
      "execution_count": null,
      "outputs": []
    },
    {
      "cell_type": "markdown",
      "metadata": {
        "id": "VuA6ldkXDCQx"
      },
      "source": [
        "## Generación del modelo"
      ]
    },
    {
      "cell_type": "code",
      "metadata": {
        "id": "oQPgxLmZTe5R"
      },
      "source": [
        "# Con esta instrucción eliminamos información previa de los modelos.\n",
        "backend.clear_session()"
      ],
      "execution_count": null,
      "outputs": []
    },
    {
      "cell_type": "code",
      "metadata": {
        "id": "sfqNqTlSCpRN"
      },
      "source": [
        "# Definición del modelo\n",
        "modelo = Sequential()\n"
      ],
      "execution_count": null,
      "outputs": []
    },
    {
      "cell_type": "code",
      "metadata": {
        "id": "_i0DrQ00DUGN"
      },
      "source": [
        "# Definición del optimizador\n",
        "Adam = optimizers.Adam(learning_rate=0.001)\n",
        "# Compilación del modelo\n",
        "modelo.compile(optimizer=Adam, loss='binary_crossentropy', metrics=['accuracy'])"
      ],
      "execution_count": null,
      "outputs": []
    },
    {
      "cell_type": "code",
      "metadata": {
        "id": "BcUeZodHDpzB"
      },
      "source": [
        "# Entrenamiento\n",
        "MLP = modelo.fit(x_train_1hot, y_train, \n",
        "               validation_data=(x_test_1hot, y_test), \n",
        "               epochs=5, batch_size = 50, \n",
        "               shuffle = True, verbose = True)"
      ],
      "execution_count": null,
      "outputs": []
    },
    {
      "cell_type": "code",
      "metadata": {
        "id": "xAZGCo9xan4Y"
      },
      "source": [
        "# Evaluar las graficas del accuracy (precisión) y del error es una buena práctica.\n",
        "# Estas graficas te dicen si el modelo necesita más épocas de entrenamiento, \n",
        "# si tienes overfitting o si es el óptimo.\n",
        "plt.plot(MLP.history['accuracy'], label='entrenamiento')\n",
        "plt.plot(MLP.history['val_accuracy'], label='validación')\n",
        "plt.legend(loc='best')\n",
        "plt.xlabel('epoca')\n",
        "plt.ylabel('accuracy')\n",
        "plt.ylim([0,1])\n",
        "plt.show()"
      ],
      "execution_count": null,
      "outputs": []
    },
    {
      "cell_type": "markdown",
      "metadata": {
        "id": "uM_U4G6E3JHC"
      },
      "source": [
        "## Prueba del modelo"
      ]
    },
    {
      "cell_type": "code",
      "metadata": {
        "id": "x-6AQ_ST2sRi"
      },
      "source": [
        "# Escribe tu opinión\n",
        "opinion = \n",
        "\n",
        "# Vectoriza tu opinión\n",
        "opinionVector = [int(diccionarioPalabras.get(i,-1) + 3) for i in opinion.split()]\n",
        "\n",
        "# Estandariza/Codifica tu opinión\n",
        "opinionArreglo = np.array(opinionVector).reshape(1, len(opinionVector))\n",
        "opinion1hot = codifica1hot(opinionArreglo)\n",
        "\n",
        "# Clasifica tu opinión\n",
        "opinionClasificacion = modelo.predict(opinion1hot)\n",
        "\n",
        "print(opinionClasificacion)\n",
        "if opinionClasificacion > 0.5:\n",
        "  print('opinión positiva')\n",
        "else:\n",
        "  print('opinión negativa')\n"
      ],
      "execution_count": null,
      "outputs": []
    },
    {
      "cell_type": "markdown",
      "metadata": {
        "id": "R-8STqtPWWeV"
      },
      "source": [
        "## Preprocesamiento para word embedding"
      ]
    },
    {
      "cell_type": "code",
      "metadata": {
        "id": "ssiXtAU_XW7k"
      },
      "source": [
        "from keras.preprocessing.sequence import pad_sequences"
      ],
      "execution_count": null,
      "outputs": []
    },
    {
      "cell_type": "code",
      "metadata": {
        "id": "Ub-mK0tpWhWT"
      },
      "source": [
        "max_length = 300 # máximo tamaño de secuencia\n",
        "padded_x_train = pad_sequences(x_train, maxlen = max_length)\n",
        "padded_x_test = pad_sequences(x_test, maxlen = max_length)"
      ],
      "execution_count": null,
      "outputs": []
    },
    {
      "cell_type": "code",
      "metadata": {
        "id": "2UfyhNgVXzSq"
      },
      "source": [
        "# Longitud de los nuevos datos de entrenamiento\n",
        "padded_x_train"
      ],
      "execution_count": null,
      "outputs": []
    },
    {
      "cell_type": "code",
      "metadata": {
        "id": "4U3AF2tiY-TQ"
      },
      "source": [
        "embedding_dim = 128 # dimensión del vector embedding\n",
        "max_words = 10000 # número de palabras a considerar"
      ],
      "execution_count": null,
      "outputs": []
    },
    {
      "cell_type": "code",
      "metadata": {
        "id": "owKN9dImGF5q"
      },
      "source": [
        "# Definición del modelo\n",
        "modeloBi = Sequential()\n",
        "modeloBi.add(Embedding(input_dim = max_words, output_dim = embedding_dim, input_length = max_length))\n",
        "modeloBi.add(Bidirectional(LSTM(45)))\n",
        "modeloBi.add(Dense(64, activation = 'relu'))\n",
        "modeloBi.add(Dense(1))\n",
        "modeloBi.summary()"
      ],
      "execution_count": null,
      "outputs": []
    },
    {
      "cell_type": "code",
      "metadata": {
        "id": "d8jkOsepMzO_"
      },
      "source": [
        "# Compilación del modelo\n",
        "modeloBi.compile(optimizer=Adam, loss='binary_crossentropy', metrics=['accuracy'])\n",
        "# Entrenamiento\n",
        "RNN = modeloBi.fit(padded_x_train, y_train, validation_data=(padded_x_test, y_test), epochs=5,\n",
        "               batch_size = 50, shuffle = True, verbose = True)"
      ],
      "execution_count": null,
      "outputs": []
    },
    {
      "cell_type": "code",
      "metadata": {
        "id": "d24-kfJT84WL"
      },
      "source": [
        "# Evaluar las graficas del accuracy (precisión) y del error es una buena práctica.\n",
        "# Estas graficas te dicen si el modelo necesita más épocas de entrenamiento, \n",
        "# si tienes overfitting o si es el óptimo.\n",
        "plt.plot(RNN.history['accuracy'], label='entrenamiento')\n",
        "plt.plot(RNN.history['val_accuracy'], label='validación')\n",
        "plt.legend(loc='best')\n",
        "plt.xlabel('epoca')\n",
        "plt.ylabel('accuracy')\n",
        "plt.ylim([0,1])\n",
        "plt.show()"
      ],
      "execution_count": null,
      "outputs": []
    },
    {
      "cell_type": "code",
      "metadata": {
        "id": "YvYosIbmG9kK"
      },
      "source": [
        "# Escribe tu opinión\n",
        "opinion = \n",
        "\n",
        "# Vectoriza tu opinión\n",
        "opinionVector = [int(diccionarioPalabras.get(i,-1) + 3) for i in opinion.split()]\n",
        "\n",
        "# Estandariza/Codifica tu opinión\n",
        "opinionArreglo = np.array(opinionVector).reshape(1, len(opinionVector))\n",
        "\n",
        "# Ajusta el vector con padding\n",
        "opinionPadded = pad_sequences(opinionArreglo, maxlen = max_length)\n",
        "\n",
        "# Clasifica tu opinión\n",
        "opinionClasificacion = modeloBi.predict(opinionPadded)\n",
        "print(opinionClasificacion)\n",
        "if opinionClasificacion > 0.5:\n",
        "  print('opinión positiva')\n",
        "else:\n",
        "  print('opinión negativa')\n"
      ],
      "execution_count": null,
      "outputs": []
    },
    {
      "cell_type": "code",
      "metadata": {
        "id": "DTUKNfEX876N"
      },
      "source": [
        ""
      ],
      "execution_count": null,
      "outputs": []
    }
  ]
}