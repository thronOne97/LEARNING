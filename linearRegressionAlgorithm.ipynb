{
  "nbformat": 4,
  "nbformat_minor": 0,
  "metadata": {
    "colab": {
      "name": "linearRegressionAlgorithm.ipynb",
      "provenance": [],
      "include_colab_link": true
    },
    "kernelspec": {
      "name": "python3",
      "display_name": "Python 3"
    }
  },
  "cells": [
    {
      "cell_type": "markdown",
      "metadata": {
        "id": "view-in-github",
        "colab_type": "text"
      },
      "source": [
        "<a href=\"https://colab.research.google.com/github/thronOne97/LEARNING/blob/master/linearRegressionAlgorithm.ipynb\" target=\"_parent\"><img src=\"https://colab.research.google.com/assets/colab-badge.svg\" alt=\"Open In Colab\"/></a>"
      ]
    },
    {
      "cell_type": "code",
      "metadata": {
        "id": "251sejumaIV9"
      },
      "source": [
        "import numpy as np\n",
        "import matplotlib.pyplot as plt "
      ],
      "execution_count": 1,
      "outputs": []
    },
    {
      "cell_type": "code",
      "metadata": {
        "id": "RRiJ18uaab9Y"
      },
      "source": [
        "#Llevando nuestro algoritmo a python\n",
        "\n",
        "def estimate_b0_b1(x, y):\n",
        "    n = np.size(x)\n",
        "    #obtenemos los promedios de X y de Y\n",
        "    m_x, m_y = np.mean(x), np.mean(y)\n",
        "\n",
        "    #Calcular sumatoria de XY y mi sumatoria de XX\n",
        "    Sumatoria_xy = np.sum((x-m_x)*(y-m_y))\n",
        "    Sumatoria_xx = np.sum(x*(x-m_x))\n",
        "\n",
        "    #coeficientes de regresion\n",
        "    b_1 = Sumatoria_xy / Sumatoria_xx\n",
        "    b_0 = m_y - b_1*m_x\n",
        "\n",
        "    return(b_0, b_1)\n",
        "\n"
      ],
      "execution_count": 2,
      "outputs": []
    },
    {
      "cell_type": "code",
      "metadata": {
        "id": "dViHihYFbIig"
      },
      "source": [
        "#Funcion de graficado \n",
        "def plot_regression(x, y, b):\n",
        "    plt.scatter(x, y, color = \"g\", marker = \"o\", s=30)\n",
        "\n",
        "    y_pred = b[0] + b[1]*x\n",
        "    plt.plot(x, y_pred, color = \"b\")\n",
        "\n",
        "    #etiquetado\n",
        "    plt.xlabel('x-Independiente')\n",
        "    plt.ylabel('y-Dependiente')\n",
        "\n",
        "    plt.show()\n",
        "    \n"
      ],
      "execution_count": 3,
      "outputs": []
    },
    {
      "cell_type": "code",
      "metadata": {
        "id": "u_0Veo1Hg4NV",
        "colab": {
          "base_uri": "https://localhost:8080/",
          "height": 296
        },
        "outputId": "b47c6e09-bbf0-40df-c28e-60028813eb99"
      },
      "source": [
        "#Codigo MAIN\n",
        "def main():\n",
        "    #DATASET\n",
        "    x = np.array([1,2,3,4,5])\n",
        "    y = np.array([2,3,5,6,5])\n",
        "\n",
        "    #Obtenemos b1 y b2\n",
        "    b = estimate_b0_b1(x, y)\n",
        "    print(\"Los valores b0 = {}, b1 ={}\".format(b[0], b[1]))\n",
        "\n",
        "    #Graficamos nuestra linea de regresion\n",
        "    plot_regression(x, y, b)\n",
        "\n",
        "if __name__== \"__main__\":\n",
        "    main()\n",
        "\n"
      ],
      "execution_count": 4,
      "outputs": [
        {
          "output_type": "stream",
          "name": "stdout",
          "text": [
            "Los valores b0 = 1.5, b1 =0.9\n"
          ]
        },
        {
          "output_type": "display_data",
          "data": {
            "image/png": "[encoded data removed]",
            "text/plain": [
              "<Figure size 432x288 with 1 Axes>"
            ]
          },
          "metadata": {
            "needs_background": "light"
          }
        }
      ]
    },
    {
      "cell_type": "code",
      "metadata": {
        "id": "42jn3ElMe50a"
      },
      "source": [
        ""
      ],
      "execution_count": null,
      "outputs": []
    }
  ]
}